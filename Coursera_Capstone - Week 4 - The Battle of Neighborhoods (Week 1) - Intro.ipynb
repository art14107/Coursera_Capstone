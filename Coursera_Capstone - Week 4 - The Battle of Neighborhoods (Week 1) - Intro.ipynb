{
 "cells": [
  {
   "cell_type": "markdown",
   "metadata": {},
   "source": [
    "# Capstone: Find the best neighborhood in Toronto to open a Restaurant Supply Store"
   ]
  },
  {
   "cell_type": "markdown",
   "metadata": {},
   "source": [
    "In this assignment, we want to find the good district from 20 districts to open a Vietnamese Restaurant in Paris, France."
   ]
  },
  {
   "cell_type": "markdown",
   "metadata": {},
   "source": [
    "# Introduction:"
   ]
  },
  {
   "cell_type": "markdown",
   "metadata": {},
   "source": [
    "A friend of mine who runs a leading Restaurant Supply Store has found out that I am studying data science and has asked for help in trying to determine which neighborhood in Toronto he should open his new store in.\n",
    "\n",
    "Example Company:\n",
    "\n",
    "http://www.bramainc.com/about-brama\n",
    "\n",
    "I begin with an interview with my friend to determine the requirements."
   ]
  },
  {
   "cell_type": "markdown",
   "metadata": {},
   "source": [
    "# Problem Description:"
   ]
  },
  {
   "cell_type": "markdown",
   "metadata": {},
   "source": [
    "To explore our problem, we need build Paris neighborhood data and their coordinates.\n",
    "\n",
    "- Concerning to Paris neighborhood data, we use the following references:\n",
    "\n",
    "    - Paris Arrondissements & Neighborhoods Map (https://parismap360.com/paris-arrondissement-map#.XfVpqtEo91l)\n",
    "    - Arrondissements in Paris, France\n",
    "    (https://francetravelplanner.com/go/paris/areas/arrondismt.html)\n",
    "- Concerning to relative coordinates (latitude, longitude) of each district in Paris\n",
    "\n",
    "    - Using package geopy to convert an address into latitude and longitude values."
   ]
  },
  {
   "cell_type": "markdown",
   "metadata": {},
   "source": [
    "Which neighborhood should my friend open his new Restaurant Supply store in Toronto?\n",
    "He wants to ensure steady and sustainable business."
   ]
  },
  {
   "cell_type": "markdown",
   "metadata": {},
   "source": [
    "# Requirements:"
   ]
  },
  {
   "cell_type": "markdown",
   "metadata": {},
   "source": [
    "**1. Store needs to be strategically located inside the biggest concentration of restaurants in Toronto area.**\n",
    "\n",
    "**2. Confirm any assumption by means of modeling and testing the data. Specifically, visually cluster common restaurants in Toronto by neighborhood.**\n",
    "\n",
    "**3. Additionally determine that a good number people can frequent these restaurants with sustainable frequency inside these neighborhoods.**\n",
    "\n",
    "    a.) Is the neighborhood populous?\n",
    "    b.) Is the neighborhood average salary close to the Canadian National Average?"
   ]
  },
  {
   "cell_type": "markdown",
   "metadata": {},
   "source": [
    "My friend wants to be able to judge which neighborhoods also may be poised to grow in restaurant numbers in coming years.\n",
    "\n",
    "Locating his new store according to these requirements will ensure the following:\n",
    "\n",
    "- lowest cost for delivery\n",
    "- shortest travel time to his store for his clients\n",
    "- overall lower run costs\n",
    "- increase in overall business\n",
    "- overall greater customer satisfaction"
   ]
  },
  {
   "cell_type": "code",
   "execution_count": null,
   "metadata": {},
   "outputs": [],
   "source": []
  }
 ],
 "metadata": {
  "kernelspec": {
   "display_name": "Python 3",
   "language": "python",
   "name": "python3"
  },
  "language_info": {
   "codemirror_mode": {
    "name": "ipython",
    "version": 3
   },
   "file_extension": ".py",
   "mimetype": "text/x-python",
   "name": "python",
   "nbconvert_exporter": "python",
   "pygments_lexer": "ipython3",
   "version": "3.8.5"
  }
 },
 "nbformat": 4,
 "nbformat_minor": 4
}
